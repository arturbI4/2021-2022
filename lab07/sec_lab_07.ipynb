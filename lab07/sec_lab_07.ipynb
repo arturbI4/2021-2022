{
 "cells": [
  {
   "cell_type": "code",
   "execution_count": 1,
   "id": "6dff5c73",
   "metadata": {},
   "outputs": [],
   "source": [
    "import numpy as np"
   ]
  },
  {
   "cell_type": "code",
   "execution_count": 2,
   "id": "a7b6146b",
   "metadata": {},
   "outputs": [],
   "source": [
    "def encryption(text):\n",
    "    print(\"Открытый текст: \", text)\n",
    "    # Задам массив из символов открытого текста в шестнадцатеричном представлении:\n",
    "    text_array = []\n",
    "    for i in text:\n",
    "        text_array.append(i.encode(\"cp1251\").hex())\n",
    "    print(\"\\nОткрый текст в шестнадцатеричном представлении: \", *text_array)\n",
    "    \n",
    "    # Задам случайно сгенерированный ключ в шестнадцатеричном представлении:\n",
    "    key_dec = np.random.randint(0, 255, len(text))\n",
    "    key_hex = [hex(i)[2:] for i in key_dec]\n",
    "    print(\"\\nКлюч в шестнадцатеричном представлении: \", *key_hex)\n",
    "    \n",
    "    # Задам зашифрованный текст в шетснадцатеричном представлении:\n",
    "    crypt_text = []\n",
    "    for i in range(len(text_array)):\n",
    "        crypt_text.append(\"{:02x}\".format(int(text_array[i], 16) ^ int(key_hex[i], 16)))\n",
    "    print(\"\\nЗашифрованный текст в шестндцатеричном представлении: \", *crypt_text)\n",
    "    \n",
    "    # Задам зашифрованный текст в обычном представлении:\n",
    "    final_text = bytearray.fromhex(\"\".join(crypt_text)).decode(\"cp1251\")\n",
    "    print(\"\\nЗашифрованный текст: \", final_text)\n",
    "    return key_hex, final_text"
   ]
  },
  {
   "cell_type": "code",
   "execution_count": 3,
   "id": "54f6dfce",
   "metadata": {},
   "outputs": [],
   "source": [
    "def decryption(text, final_text):\n",
    "    print(\"Открытый текст: \", text)\n",
    "    print(\"\\nЗашифрованный текст: \", final_text)\n",
    "    \n",
    "    # Задам массив из символов открытого текста в шестнадцатеричном представлении:\n",
    "    text_hex = []\n",
    "    for i in text:\n",
    "        text_hex.append(i.encode(\"cp1251\").hex())\n",
    "    print(\"\\nОткрый текст в шестнадцатеричном представлении: \", *text_hex)\n",
    "    \n",
    "    # Задам массив из символов зашифрованного текста в шестнадцатеричном представлении:\n",
    "    final_text_hex = []\n",
    "    for i in final_text:\n",
    "        final_text_hex.append(i.encode(\"cp1251\").hex())\n",
    "    print(\"\\nЗашифрованный текст в шестнадцатеричном представлении: \", *final_text_hex)\n",
    "    \n",
    "    # Найду ключ:\n",
    "    key = [hex(int(i, 16) ^ int(j, 16))[2:] for (i, j) in zip(text_hex, final_text_hex)]\n",
    "    print(\"\\nНужный ключ в шестнадцатеричном представлении: \", *key)\n",
    "    return key"
   ]
  },
  {
   "cell_type": "code",
   "execution_count": 4,
   "id": "d1ddfd71",
   "metadata": {},
   "outputs": [
    {
     "name": "stdout",
     "output_type": "stream",
     "text": [
      "Открытый текст:  С Новым Годом, друзья!\n",
      "\n",
      "Открый текст в шестнадцатеричном представлении:  d1 20 cd ee e2 fb ec 20 c3 ee e4 ee ec 2c 20 e4 f0 f3 e7 fc ff 21\n",
      "\n",
      "Ключ в шестнадцатеричном представлении:  bd 34 23 ce 18 10 89 50 12 92 62 c1 83 78 ac 54 2b 17 36 9b ef 1\n",
      "\n",
      "Зашифрованный текст в шестндцатеричном представлении:  6c 14 ee 20 fa eb 65 70 d1 7c 86 2f 6f 54 8c b0 db e4 d1 67 10 20\n",
      "\n",
      "Зашифрованный текст:  l\u0014о ълepС|†/oTЊ°ЫдСg\u0010 \n"
     ]
    }
   ],
   "source": [
    "# Изначальная фраза:\n",
    "phrase = \"С Новым Годом, друзья!\"\n",
    "# Получение сгенерированного ключа и зашифрованной фразы:\n",
    "crypt_key, crypt_text = encryption(phrase)"
   ]
  },
  {
   "cell_type": "code",
   "execution_count": 5,
   "id": "3bd27989",
   "metadata": {},
   "outputs": [
    {
     "name": "stdout",
     "output_type": "stream",
     "text": [
      "Открытый текст:  С Новым Годом, друзья!\n",
      "\n",
      "Зашифрованный текст:  l\u0014о ълepС|†/oTЊ°ЫдСg\u0010 \n",
      "\n",
      "Открый текст в шестнадцатеричном представлении:  d1 20 cd ee e2 fb ec 20 c3 ee e4 ee ec 2c 20 e4 f0 f3 e7 fc ff 21\n",
      "\n",
      "Зашифрованный текст в шестнадцатеричном представлении:  6c 14 ee 20 fa eb 65 70 d1 7c 86 2f 6f 54 8c b0 db e4 d1 67 10 20\n",
      "\n",
      "Нужный ключ в шестнадцатеричном представлении:  bd 34 23 ce 18 10 89 50 12 92 62 c1 83 78 ac 54 2b 17 36 9b ef 1\n"
     ]
    }
   ],
   "source": [
    "# Получение нужного ключа:\n",
    "key = decryption(phrase, crypt_text)"
   ]
  },
  {
   "cell_type": "code",
   "execution_count": 6,
   "id": "6fa9d813",
   "metadata": {},
   "outputs": [
    {
     "name": "stdout",
     "output_type": "stream",
     "text": [
      "Ключ верен!\n"
     ]
    }
   ],
   "source": [
    "# Проверка правильности ключа:\n",
    "print(\"Ключ верен!\") if crypt_key == key else print(\"Ключ неверен!\")"
   ]
  },
  {
   "cell_type": "code",
   "execution_count": null,
   "id": "cd1e2fed",
   "metadata": {},
   "outputs": [],
   "source": []
  }
 ],
 "metadata": {
  "kernelspec": {
   "display_name": "Python 3",
   "language": "python",
   "name": "python3"
  },
  "language_info": {
   "codemirror_mode": {
    "name": "ipython",
    "version": 3
   },
   "file_extension": ".py",
   "mimetype": "text/x-python",
   "name": "python",
   "nbconvert_exporter": "python",
   "pygments_lexer": "ipython3",
   "version": "3.8.8"
  }
 },
 "nbformat": 4,
 "nbformat_minor": 5
}
